{
 "cells": [
  {
   "cell_type": "markdown",
   "id": "793144cc",
   "metadata": {},
   "source": [
    "JOIN 2 OR MORE THAN 2 TABLES"
   ]
  },
  {
   "cell_type": "code",
   "execution_count": null,
   "id": "cc6e8c82",
   "metadata": {},
   "outputs": [],
   "source": [
    "JOINS ARE 4 TYPES \n",
    "\n",
    "1 = INNER JOIN\n",
    "\n",
    "2 = OUTER JOIN\n",
    "\n",
    "3 = LEFT JOIN\n",
    "\n",
    "4 = RIGHT JOIN"
   ]
  },
  {
   "cell_type": "code",
   "execution_count": 3,
   "id": "0c7e60f0",
   "metadata": {},
   "outputs": [
    {
     "name": "stdout",
     "output_type": "stream",
     "text": [
      "<mysql.connector.connection_cext.CMySQLConnection object at 0x00000226051E9790>\n"
     ]
    }
   ],
   "source": [
    "import mysql.connector\n",
    "\n",
    "mydb = mysql.connector.connect(\n",
    "  host=\"localhost\",\n",
    "  user=\"root\",\n",
    "  password=\"123456789\"\n",
    ")\n",
    "\n",
    "print(mydb)"
   ]
  },
  {
   "cell_type": "code",
   "execution_count": 4,
   "id": "b5d244cf",
   "metadata": {},
   "outputs": [
    {
     "name": "stdout",
     "output_type": "stream",
     "text": [
      "('school',)\n"
     ]
    }
   ],
   "source": [
    "mydb = mysql.connector.connect(\n",
    "  host=\"localhost\",\n",
    "  user= \"root\",\n",
    "  password=\"123456789\",\n",
    "  database=\"database1\"\n",
    ")\n",
    "\n",
    "mycursor = mydb.cursor()\n",
    "\n",
    "mycursor.execute(\"SHOW TABLES\")\n",
    "\n",
    "for x in mycursor:\n",
    "    print(x)"
   ]
  },
  {
   "cell_type": "code",
   "execution_count": null,
   "id": "938e8479",
   "metadata": {},
   "outputs": [],
   "source": []
  }
 ],
 "metadata": {
  "kernelspec": {
   "display_name": "Python 3 (ipykernel)",
   "language": "python",
   "name": "python3"
  },
  "language_info": {
   "codemirror_mode": {
    "name": "ipython",
    "version": 3
   },
   "file_extension": ".py",
   "mimetype": "text/x-python",
   "name": "python",
   "nbconvert_exporter": "python",
   "pygments_lexer": "ipython3",
   "version": "3.9.12"
  }
 },
 "nbformat": 4,
 "nbformat_minor": 5
}
