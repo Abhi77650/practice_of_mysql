{
 "cells": [
  {
   "cell_type": "markdown",
   "id": "bc541432",
   "metadata": {},
   "source": [
    "# LOGICAL OPERATORS\n",
    " \n",
    "     AND\n",
    "     OR   \n",
    "     NOT NULL"
   ]
  },
  {
   "cell_type": "code",
   "execution_count": 1,
   "id": "00cb7bb2",
   "metadata": {},
   "outputs": [
    {
     "name": "stdout",
     "output_type": "stream",
     "text": [
      "<mysql.connector.connection_cext.CMySQLConnection object at 0x000002D990614B80>\n"
     ]
    }
   ],
   "source": [
    "import mysql.connector\n",
    "\n",
    "mydb = mysql.connector.connect(\n",
    "  host=\"localhost\",\n",
    "  user=\"root\",\n",
    "  password=\"123456789\"\n",
    ")\n",
    "\n",
    "print(mydb)"
   ]
  },
  {
   "cell_type": "code",
   "execution_count": 6,
   "id": "182de2f6",
   "metadata": {},
   "outputs": [],
   "source": [
    "mydb = mysql.connector.connect(\n",
    "  host=\"localhost\",\n",
    "  user= \"root\",\n",
    "  password=\"123456789\",\n",
    "  database=\"database1\"\n",
    ")\n",
    "\n",
    "mycursor = mydb.cursor()\n"
   ]
  },
  {
   "cell_type": "code",
   "execution_count": 3,
   "id": "9ee27515",
   "metadata": {},
   "outputs": [
    {
     "data": {
      "text/plain": [
       "[]"
      ]
     },
     "execution_count": 3,
     "metadata": {},
     "output_type": "execute_result"
    }
   ],
   "source": [
    "sql = \"SELECT * FROM school WHERE gender = 'Female' AND marks > 50 AND student_id > 10657515\"\n",
    "\n",
    "mycursor.execute(sql)\n",
    "mycursor.fetchall()"
   ]
  },
  {
   "cell_type": "code",
   "execution_count": 5,
   "id": "158d693a",
   "metadata": {},
   "outputs": [
    {
     "data": {
      "text/plain": [
       "[(10657502, 'Male', 100),\n",
       " (10657503, 'Female', 36),\n",
       " (10657504, 'Female', 37),\n",
       " (10657508, 'Male', 55),\n",
       " (10657509, 'Female', 66),\n",
       " (10657510, 'Female', 77),\n",
       " (10657511, 'Male', 85)]"
      ]
     },
     "execution_count": 5,
     "metadata": {},
     "output_type": "execute_result"
    }
   ],
   "source": [
    "sql = \"SELECT student_id, gender, marks FROM school WHERE marks > 50 OR gender = 'Female'\"\n",
    "\n",
    "mycursor.execute(sql)\n",
    "mycursor.fetchall()"
   ]
  },
  {
   "cell_type": "code",
   "execution_count": 9,
   "id": "6c55e28a",
   "metadata": {},
   "outputs": [
    {
     "data": {
      "text/plain": [
       "[(10657501, 45),\n",
       " (10657502, 100),\n",
       " (10657503, 36),\n",
       " (10657504, 37),\n",
       " (10657505, 38),\n",
       " (10657506, 39),\n",
       " (10657508, 55),\n",
       " (10657509, 66),\n",
       " (10657510, 77),\n",
       " (10657511, 85)]"
      ]
     },
     "execution_count": 9,
     "metadata": {},
     "output_type": "execute_result"
    }
   ],
   "source": [
    "sql = \"SELECT student_id, marks FROM school WHERE marks IS NOT NULL\"\n",
    "mycursor.execute(sql)\n",
    "mycursor.fetchall()"
   ]
  },
  {
   "cell_type": "code",
   "execution_count": null,
   "id": "8960f5b3",
   "metadata": {},
   "outputs": [],
   "source": []
  }
 ],
 "metadata": {
  "kernelspec": {
   "display_name": "Python 3 (ipykernel)",
   "language": "python",
   "name": "python3"
  },
  "language_info": {
   "codemirror_mode": {
    "name": "ipython",
    "version": 3
   },
   "file_extension": ".py",
   "mimetype": "text/x-python",
   "name": "python",
   "nbconvert_exporter": "python",
   "pygments_lexer": "ipython3",
   "version": "3.9.12"
  }
 },
 "nbformat": 4,
 "nbformat_minor": 5
}
