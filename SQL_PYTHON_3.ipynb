{
 "cells": [
  {
   "cell_type": "markdown",
   "id": "d0eab316",
   "metadata": {},
   "source": [
    "# IN"
   ]
  },
  {
   "cell_type": "code",
   "execution_count": 1,
   "id": "b2edcd1a",
   "metadata": {},
   "outputs": [
    {
     "name": "stdout",
     "output_type": "stream",
     "text": [
      "<mysql.connector.connection_cext.CMySQLConnection object at 0x000001FF5BE14B80>\n"
     ]
    }
   ],
   "source": [
    "import mysql.connector\n",
    "\n",
    "mydb = mysql.connector.connect(\n",
    "  host=\"localhost\",\n",
    "  user=\"root\",\n",
    "  password=\"123456789\"\n",
    ")\n",
    "\n",
    "print(mydb)"
   ]
  },
  {
   "cell_type": "code",
   "execution_count": 6,
   "id": "0af1f53d",
   "metadata": {},
   "outputs": [
    {
     "data": {
      "text/plain": [
       "[(10657503, 36, 'Female'), (10657504, 37, 'Female')]"
      ]
     },
     "execution_count": 6,
     "metadata": {},
     "output_type": "execute_result"
    }
   ],
   "source": [
    "mydb = mysql.connector.connect(\n",
    "  host=\"localhost\",\n",
    "  user= \"root\",\n",
    "  password=\"123456789\",\n",
    "  database=\"database1\"\n",
    ")\n",
    "\n",
    "mycursor = mydb.cursor()\n",
    "\n",
    "sql = \"SELECT studenT_id, marks, gender FROM school WHERE marks IN (36,37,44,80,90)\"\n",
    "\n",
    "mycursor.execute(sql)\n",
    "mycursor.fetchall()\n"
   ]
  },
  {
   "cell_type": "markdown",
   "id": "636a6a54",
   "metadata": {},
   "source": [
    "# BETWEEN"
   ]
  },
  {
   "cell_type": "code",
   "execution_count": 7,
   "id": "6d5c0bbe",
   "metadata": {},
   "outputs": [
    {
     "name": "stdout",
     "output_type": "stream",
     "text": [
      "(10657509, 66, 'Female')\n",
      "(10657510, 77, 'Female')\n",
      "(10657511, 85, 'Male')\n"
     ]
    }
   ],
   "source": [
    "sql = \"SELECT studenT_id, marks, gender FROM school WHERE marks BETWEEN 60 AND 90\"\n",
    "\n",
    "mycursor.execute(sql)\n",
    "\n",
    "result = mycursor.fetchall()\n",
    "\n",
    "for items in result:\n",
    "    print(items)"
   ]
  },
  {
   "cell_type": "markdown",
   "id": "d949ceb3",
   "metadata": {},
   "source": [
    "# LIKE"
   ]
  },
  {
   "cell_type": "code",
   "execution_count": 11,
   "id": "102d39fc",
   "metadata": {},
   "outputs": [
    {
     "name": "stdout",
     "output_type": "stream",
     "text": [
      "(10657503, 36, 'Female')\n",
      "(10657504, 37, 'Female')\n",
      "(10657505, 38, 'Male')\n",
      "(10657506, 39, 'Male')\n"
     ]
    }
   ],
   "source": [
    "sql = \"SELECT studenT_id, marks, gender FROM school WHERE marks LIKE '50%'\"\n",
    "\n",
    "mycursor.execute(sql)\n",
    "\n",
    "result = mycursor.fetchall()\n",
    "\n",
    "for items in result:\n",
    "    print(items)"
   ]
  },
  {
   "cell_type": "code",
   "execution_count": null,
   "id": "2b36d659",
   "metadata": {},
   "outputs": [],
   "source": []
  }
 ],
 "metadata": {
  "kernelspec": {
   "display_name": "Python 3 (ipykernel)",
   "language": "python",
   "name": "python3"
  },
  "language_info": {
   "codemirror_mode": {
    "name": "ipython",
    "version": 3
   },
   "file_extension": ".py",
   "mimetype": "text/x-python",
   "name": "python",
   "nbconvert_exporter": "python",
   "pygments_lexer": "ipython3",
   "version": "3.9.12"
  }
 },
 "nbformat": 4,
 "nbformat_minor": 5
}
